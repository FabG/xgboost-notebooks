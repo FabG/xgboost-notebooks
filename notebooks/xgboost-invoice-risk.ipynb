{
 "cells": [
  {
   "cell_type": "markdown",
   "metadata": {},
   "source": [
    "# XGboost - Invoice Risk"
   ]
  },
  {
   "cell_type": "markdown",
   "metadata": {},
   "source": [
    "This notebook features XGboost against a CSV input file to build a Binary Classifer. It is inspired by this [notebok](https://github.com/abaranovskis-redsamurai/automation-repo/blob/master/invoice-risk-model-local.ipynb)"
   ]
  },
  {
   "cell_type": "code",
   "execution_count": 1,
   "metadata": {},
   "outputs": [],
   "source": [
    "import pandas as pd\n",
    "from sklearn.model_selection import train_test_split\n",
    "import xgboost as xgb\n",
    "from sklearn.metrics import accuracy_score\n",
    "import pickle\n",
    "from matplotlib import pyplot"
   ]
  },
  {
   "cell_type": "code",
   "execution_count": 2,
   "metadata": {},
   "outputs": [
    {
     "data": {
      "text/html": [
       "<div>\n",
       "<style scoped>\n",
       "    .dataframe tbody tr th:only-of-type {\n",
       "        vertical-align: middle;\n",
       "    }\n",
       "\n",
       "    .dataframe tbody tr th {\n",
       "        vertical-align: top;\n",
       "    }\n",
       "\n",
       "    .dataframe thead th {\n",
       "        text-align: right;\n",
       "    }\n",
       "</style>\n",
       "<table border=\"1\" class=\"dataframe\">\n",
       "  <thead>\n",
       "    <tr style=\"text-align: right;\">\n",
       "      <th></th>\n",
       "      <th>invoice_risk_decision</th>\n",
       "      <th>customer</th>\n",
       "      <th>payment_due_date</th>\n",
       "      <th>payment_date</th>\n",
       "      <th>grand_total</th>\n",
       "    </tr>\n",
       "  </thead>\n",
       "  <tbody>\n",
       "    <tr>\n",
       "      <th>0</th>\n",
       "      <td>0</td>\n",
       "      <td>id_24</td>\n",
       "      <td>2</td>\n",
       "      <td>2</td>\n",
       "      <td>64.25</td>\n",
       "    </tr>\n",
       "    <tr>\n",
       "      <th>1</th>\n",
       "      <td>0</td>\n",
       "      <td>id_11</td>\n",
       "      <td>3</td>\n",
       "      <td>3</td>\n",
       "      <td>50.34</td>\n",
       "    </tr>\n",
       "    <tr>\n",
       "      <th>2</th>\n",
       "      <td>0</td>\n",
       "      <td>id_29</td>\n",
       "      <td>4</td>\n",
       "      <td>4</td>\n",
       "      <td>40.03</td>\n",
       "    </tr>\n",
       "    <tr>\n",
       "      <th>3</th>\n",
       "      <td>0</td>\n",
       "      <td>id_28</td>\n",
       "      <td>4</td>\n",
       "      <td>2</td>\n",
       "      <td>94.86</td>\n",
       "    </tr>\n",
       "    <tr>\n",
       "      <th>4</th>\n",
       "      <td>1</td>\n",
       "      <td>id_13</td>\n",
       "      <td>2</td>\n",
       "      <td>8</td>\n",
       "      <td>65.15</td>\n",
       "    </tr>\n",
       "  </tbody>\n",
       "</table>\n",
       "</div>"
      ],
      "text/plain": [
       "   invoice_risk_decision customer  payment_due_date  payment_date  grand_total\n",
       "0                      0    id_24                 2             2        64.25\n",
       "1                      0    id_11                 3             3        50.34\n",
       "2                      0    id_29                 4             4        40.03\n",
       "3                      0    id_28                 4             2        94.86\n",
       "4                      1    id_13                 2             8        65.15"
      ]
     },
     "execution_count": 2,
     "metadata": {},
     "output_type": "execute_result"
    }
   ],
   "source": [
    "\n",
    "df = pd.read_csv('../data/invoice_data_prog_processed.csv')\n",
    "df.head()"
   ]
  },
  {
   "cell_type": "code",
   "execution_count": 3,
   "metadata": {},
   "outputs": [
    {
     "name": "stdout",
     "output_type": "stream",
     "text": [
      "Number of rows in dataset: {df.shape[0]}\n",
      "0    171\n",
      "1    135\n",
      "Name: invoice_risk_decision, dtype: int64\n"
     ]
    }
   ],
   "source": [
    "print('Number of rows in dataset: {df.shape[0]}')\n",
    "print(df[df.columns[0]].value_counts())"
   ]
  },
  {
   "cell_type": "code",
   "execution_count": 4,
   "metadata": {},
   "outputs": [
    {
     "data": {
      "text/html": [
       "<div>\n",
       "<style scoped>\n",
       "    .dataframe tbody tr th:only-of-type {\n",
       "        vertical-align: middle;\n",
       "    }\n",
       "\n",
       "    .dataframe tbody tr th {\n",
       "        vertical-align: top;\n",
       "    }\n",
       "\n",
       "    .dataframe thead th {\n",
       "        text-align: right;\n",
       "    }\n",
       "</style>\n",
       "<table border=\"1\" class=\"dataframe\">\n",
       "  <thead>\n",
       "    <tr style=\"text-align: right;\">\n",
       "      <th></th>\n",
       "      <th>invoice_risk_decision</th>\n",
       "      <th>payment_due_date</th>\n",
       "      <th>payment_date</th>\n",
       "      <th>grand_total</th>\n",
       "      <th>customer_id_11</th>\n",
       "      <th>customer_id_12</th>\n",
       "      <th>customer_id_13</th>\n",
       "      <th>customer_id_14</th>\n",
       "      <th>customer_id_15</th>\n",
       "      <th>customer_id_18</th>\n",
       "      <th>...</th>\n",
       "      <th>customer_id_45</th>\n",
       "      <th>customer_id_46</th>\n",
       "      <th>customer_id_47</th>\n",
       "      <th>customer_id_48</th>\n",
       "      <th>customer_id_49</th>\n",
       "      <th>customer_id_50</th>\n",
       "      <th>customer_id_6</th>\n",
       "      <th>customer_id_7</th>\n",
       "      <th>customer_id_8</th>\n",
       "      <th>customer_id_9</th>\n",
       "    </tr>\n",
       "  </thead>\n",
       "  <tbody>\n",
       "    <tr>\n",
       "      <th>0</th>\n",
       "      <td>0</td>\n",
       "      <td>2</td>\n",
       "      <td>2</td>\n",
       "      <td>64.25</td>\n",
       "      <td>0</td>\n",
       "      <td>0</td>\n",
       "      <td>0</td>\n",
       "      <td>0</td>\n",
       "      <td>0</td>\n",
       "      <td>0</td>\n",
       "      <td>...</td>\n",
       "      <td>0</td>\n",
       "      <td>0</td>\n",
       "      <td>0</td>\n",
       "      <td>0</td>\n",
       "      <td>0</td>\n",
       "      <td>0</td>\n",
       "      <td>0</td>\n",
       "      <td>0</td>\n",
       "      <td>0</td>\n",
       "      <td>0</td>\n",
       "    </tr>\n",
       "    <tr>\n",
       "      <th>1</th>\n",
       "      <td>0</td>\n",
       "      <td>3</td>\n",
       "      <td>3</td>\n",
       "      <td>50.34</td>\n",
       "      <td>1</td>\n",
       "      <td>0</td>\n",
       "      <td>0</td>\n",
       "      <td>0</td>\n",
       "      <td>0</td>\n",
       "      <td>0</td>\n",
       "      <td>...</td>\n",
       "      <td>0</td>\n",
       "      <td>0</td>\n",
       "      <td>0</td>\n",
       "      <td>0</td>\n",
       "      <td>0</td>\n",
       "      <td>0</td>\n",
       "      <td>0</td>\n",
       "      <td>0</td>\n",
       "      <td>0</td>\n",
       "      <td>0</td>\n",
       "    </tr>\n",
       "    <tr>\n",
       "      <th>2</th>\n",
       "      <td>0</td>\n",
       "      <td>4</td>\n",
       "      <td>4</td>\n",
       "      <td>40.03</td>\n",
       "      <td>0</td>\n",
       "      <td>0</td>\n",
       "      <td>0</td>\n",
       "      <td>0</td>\n",
       "      <td>0</td>\n",
       "      <td>0</td>\n",
       "      <td>...</td>\n",
       "      <td>0</td>\n",
       "      <td>0</td>\n",
       "      <td>0</td>\n",
       "      <td>0</td>\n",
       "      <td>0</td>\n",
       "      <td>0</td>\n",
       "      <td>0</td>\n",
       "      <td>0</td>\n",
       "      <td>0</td>\n",
       "      <td>0</td>\n",
       "    </tr>\n",
       "    <tr>\n",
       "      <th>3</th>\n",
       "      <td>0</td>\n",
       "      <td>4</td>\n",
       "      <td>2</td>\n",
       "      <td>94.86</td>\n",
       "      <td>0</td>\n",
       "      <td>0</td>\n",
       "      <td>0</td>\n",
       "      <td>0</td>\n",
       "      <td>0</td>\n",
       "      <td>0</td>\n",
       "      <td>...</td>\n",
       "      <td>0</td>\n",
       "      <td>0</td>\n",
       "      <td>0</td>\n",
       "      <td>0</td>\n",
       "      <td>0</td>\n",
       "      <td>0</td>\n",
       "      <td>0</td>\n",
       "      <td>0</td>\n",
       "      <td>0</td>\n",
       "      <td>0</td>\n",
       "    </tr>\n",
       "    <tr>\n",
       "      <th>4</th>\n",
       "      <td>1</td>\n",
       "      <td>2</td>\n",
       "      <td>8</td>\n",
       "      <td>65.15</td>\n",
       "      <td>0</td>\n",
       "      <td>0</td>\n",
       "      <td>1</td>\n",
       "      <td>0</td>\n",
       "      <td>0</td>\n",
       "      <td>0</td>\n",
       "      <td>...</td>\n",
       "      <td>0</td>\n",
       "      <td>0</td>\n",
       "      <td>0</td>\n",
       "      <td>0</td>\n",
       "      <td>0</td>\n",
       "      <td>0</td>\n",
       "      <td>0</td>\n",
       "      <td>0</td>\n",
       "      <td>0</td>\n",
       "      <td>0</td>\n",
       "    </tr>\n",
       "  </tbody>\n",
       "</table>\n",
       "<p>5 rows × 44 columns</p>\n",
       "</div>"
      ],
      "text/plain": [
       "   invoice_risk_decision  payment_due_date  payment_date  grand_total  \\\n",
       "0                      0                 2             2        64.25   \n",
       "1                      0                 3             3        50.34   \n",
       "2                      0                 4             4        40.03   \n",
       "3                      0                 4             2        94.86   \n",
       "4                      1                 2             8        65.15   \n",
       "\n",
       "   customer_id_11  customer_id_12  customer_id_13  customer_id_14  \\\n",
       "0               0               0               0               0   \n",
       "1               1               0               0               0   \n",
       "2               0               0               0               0   \n",
       "3               0               0               0               0   \n",
       "4               0               0               1               0   \n",
       "\n",
       "   customer_id_15  customer_id_18  ...  customer_id_45  customer_id_46  \\\n",
       "0               0               0  ...               0               0   \n",
       "1               0               0  ...               0               0   \n",
       "2               0               0  ...               0               0   \n",
       "3               0               0  ...               0               0   \n",
       "4               0               0  ...               0               0   \n",
       "\n",
       "   customer_id_47  customer_id_48  customer_id_49  customer_id_50  \\\n",
       "0               0               0               0               0   \n",
       "1               0               0               0               0   \n",
       "2               0               0               0               0   \n",
       "3               0               0               0               0   \n",
       "4               0               0               0               0   \n",
       "\n",
       "   customer_id_6  customer_id_7  customer_id_8  customer_id_9  \n",
       "0              0              0              0              0  \n",
       "1              0              0              0              0  \n",
       "2              0              0              0              0  \n",
       "3              0              0              0              0  \n",
       "4              0              0              0              0  \n",
       "\n",
       "[5 rows x 44 columns]"
      ]
     },
     "execution_count": 4,
     "metadata": {},
     "output_type": "execute_result"
    }
   ],
   "source": [
    "# One hot encode customer IDs\n",
    "encoded_data = pd.get_dummies(df)\n",
    "encoded_data.head()"
   ]
  },
  {
   "cell_type": "code",
   "execution_count": 6,
   "metadata": {},
   "outputs": [
    {
     "data": {
      "text/plain": [
       "invoice_risk_decision    1.000000\n",
       "payment_due_date         0.349879\n",
       "payment_date             0.432499\n",
       "grand_total              0.182643\n",
       "customer_id_11           0.166688\n",
       "customer_id_12           0.111988\n",
       "customer_id_19           0.110278\n",
       "customer_id_27           0.102258\n",
       "customer_id_4            0.130518\n",
       "customer_id_44           0.114517\n",
       "customer_id_50           0.179509\n",
       "customer_id_8            0.131556\n",
       "Name: invoice_risk_decision, dtype: float64"
      ]
     },
     "execution_count": 6,
     "metadata": {},
     "output_type": "execute_result"
    }
   ],
   "source": [
    "# Look at the degree of correlation of our features against the invoice_risk_decision\n",
    "corrs = encoded_data.corr()['invoice_risk_decision'].abs()\n",
    "columns = corrs[corrs > .1].index\n",
    "corrs = corrs.filter(columns)\n",
    "corrs"
   ]
  },
  {
   "cell_type": "code",
   "execution_count": 7,
   "metadata": {},
   "outputs": [],
   "source": [
    "# split data into X and y\n",
    "X = encoded_data.iloc[:, 1:44]\n",
    "Y = encoded_data.iloc[:, 0:1]"
   ]
  },
  {
   "cell_type": "code",
   "execution_count": 8,
   "metadata": {},
   "outputs": [
    {
     "name": "stdout",
     "output_type": "stream",
     "text": [
      "(275, 43) (31, 43)\n",
      "\n",
      "Number of rows in Train dataset: {train_df.shape[0]}\n",
      "0    154\n",
      "1    121\n",
      "Name: invoice_risk_decision, dtype: int64\n",
      "\n",
      "Number of rows in Test dataset: {test_df.shape[0]}\n",
      "0    17\n",
      "1    14\n",
      "Name: invoice_risk_decision, dtype: int64\n"
     ]
    }
   ],
   "source": [
    "# Retain 10% of the dataset for Test\n",
    "headers = list(X)\n",
    "train_X, test_X, train_Y, test_Y = train_test_split(X, Y, test_size=0.1, stratify=Y, random_state=0)\n",
    "\n",
    "print(train_X.shape, test_X.shape)\n",
    "print()\n",
    "print('Number of rows in Train dataset: {train_df.shape[0]}')\n",
    "print(train_Y['invoice_risk_decision'].value_counts())\n",
    "print()\n",
    "print('Number of rows in Test dataset: {test_df.shape[0]}')\n",
    "print(test_Y['invoice_risk_decision'].value_counts())\n"
   ]
  },
  {
   "cell_type": "code",
   "execution_count": 10,
   "metadata": {},
   "outputs": [
    {
     "name": "stdout",
     "output_type": "stream",
     "text": [
      "[0]\tvalidation_0-error:0.087273\tvalidation_0-logloss:0.631858\tvalidation_1-error:0.193548\tvalidation_1-logloss:0.643774\n",
      "Multiple eval metrics have been passed: 'validation_1-logloss' will be used for early stopping.\n",
      "\n",
      "Will train until validation_1-logloss hasn't improved in 10 rounds.\n",
      "[1]\tvalidation_0-error:0.087273\tvalidation_0-logloss:0.581629\tvalidation_1-error:0.193548\tvalidation_1-logloss:0.607257\n",
      "[2]\tvalidation_0-error:0.090909\tvalidation_0-logloss:0.537914\tvalidation_1-error:0.225806\tvalidation_1-logloss:0.575808\n",
      "[3]\tvalidation_0-error:0.090909\tvalidation_0-logloss:0.500498\tvalidation_1-error:0.225806\tvalidation_1-logloss:0.55041\n",
      "[4]\tvalidation_0-error:0.090909\tvalidation_0-logloss:0.466848\tvalidation_1-error:0.225806\tvalidation_1-logloss:0.522722\n",
      "[5]\tvalidation_0-error:0.090909\tvalidation_0-logloss:0.43845\tvalidation_1-error:0.225806\tvalidation_1-logloss:0.507767\n",
      "[6]\tvalidation_0-error:0.090909\tvalidation_0-logloss:0.412471\tvalidation_1-error:0.225806\tvalidation_1-logloss:0.48711\n",
      "[7]\tvalidation_0-error:0.090909\tvalidation_0-logloss:0.388376\tvalidation_1-error:0.225806\tvalidation_1-logloss:0.468149\n",
      "[8]\tvalidation_0-error:0.090909\tvalidation_0-logloss:0.368353\tvalidation_1-error:0.225806\tvalidation_1-logloss:0.452367\n",
      "[9]\tvalidation_0-error:0.090909\tvalidation_0-logloss:0.350468\tvalidation_1-error:0.225806\tvalidation_1-logloss:0.447136\n",
      "[10]\tvalidation_0-error:0.090909\tvalidation_0-logloss:0.335743\tvalidation_1-error:0.225806\tvalidation_1-logloss:0.437892\n",
      "[11]\tvalidation_0-error:0.087273\tvalidation_0-logloss:0.3198\tvalidation_1-error:0.193548\tvalidation_1-logloss:0.423018\n",
      "[12]\tvalidation_0-error:0.087273\tvalidation_0-logloss:0.305355\tvalidation_1-error:0.193548\tvalidation_1-logloss:0.41391\n",
      "[13]\tvalidation_0-error:0.087273\tvalidation_0-logloss:0.293381\tvalidation_1-error:0.193548\tvalidation_1-logloss:0.409457\n",
      "[14]\tvalidation_0-error:0.08\tvalidation_0-logloss:0.281594\tvalidation_1-error:0.193548\tvalidation_1-logloss:0.402134\n",
      "[15]\tvalidation_0-error:0.08\tvalidation_0-logloss:0.27257\tvalidation_1-error:0.193548\tvalidation_1-logloss:0.39593\n",
      "[16]\tvalidation_0-error:0.069091\tvalidation_0-logloss:0.261627\tvalidation_1-error:0.16129\tvalidation_1-logloss:0.383218\n",
      "[17]\tvalidation_0-error:0.069091\tvalidation_0-logloss:0.253792\tvalidation_1-error:0.16129\tvalidation_1-logloss:0.379261\n",
      "[18]\tvalidation_0-error:0.061818\tvalidation_0-logloss:0.245164\tvalidation_1-error:0.16129\tvalidation_1-logloss:0.371\n",
      "[19]\tvalidation_0-error:0.065455\tvalidation_0-logloss:0.239862\tvalidation_1-error:0.16129\tvalidation_1-logloss:0.369717\n",
      "[20]\tvalidation_0-error:0.050909\tvalidation_0-logloss:0.234025\tvalidation_1-error:0.16129\tvalidation_1-logloss:0.362825\n",
      "[21]\tvalidation_0-error:0.054545\tvalidation_0-logloss:0.226094\tvalidation_1-error:0.16129\tvalidation_1-logloss:0.357552\n",
      "[22]\tvalidation_0-error:0.058182\tvalidation_0-logloss:0.217552\tvalidation_1-error:0.193548\tvalidation_1-logloss:0.350682\n",
      "[23]\tvalidation_0-error:0.050909\tvalidation_0-logloss:0.210517\tvalidation_1-error:0.16129\tvalidation_1-logloss:0.340736\n",
      "[24]\tvalidation_0-error:0.047273\tvalidation_0-logloss:0.202828\tvalidation_1-error:0.129032\tvalidation_1-logloss:0.334812\n",
      "[25]\tvalidation_0-error:0.043636\tvalidation_0-logloss:0.197122\tvalidation_1-error:0.129032\tvalidation_1-logloss:0.32824\n",
      "[26]\tvalidation_0-error:0.047273\tvalidation_0-logloss:0.191097\tvalidation_1-error:0.129032\tvalidation_1-logloss:0.323265\n",
      "[27]\tvalidation_0-error:0.047273\tvalidation_0-logloss:0.185234\tvalidation_1-error:0.129032\tvalidation_1-logloss:0.317019\n",
      "[28]\tvalidation_0-error:0.043636\tvalidation_0-logloss:0.181414\tvalidation_1-error:0.129032\tvalidation_1-logloss:0.312001\n",
      "[29]\tvalidation_0-error:0.043636\tvalidation_0-logloss:0.176844\tvalidation_1-error:0.129032\tvalidation_1-logloss:0.306952\n",
      "[30]\tvalidation_0-error:0.043636\tvalidation_0-logloss:0.171885\tvalidation_1-error:0.129032\tvalidation_1-logloss:0.299683\n",
      "[31]\tvalidation_0-error:0.036364\tvalidation_0-logloss:0.168147\tvalidation_1-error:0.129032\tvalidation_1-logloss:0.293453\n",
      "[32]\tvalidation_0-error:0.036364\tvalidation_0-logloss:0.163208\tvalidation_1-error:0.129032\tvalidation_1-logloss:0.291393\n",
      "[33]\tvalidation_0-error:0.04\tvalidation_0-logloss:0.160331\tvalidation_1-error:0.129032\tvalidation_1-logloss:0.293629\n",
      "[34]\tvalidation_0-error:0.032727\tvalidation_0-logloss:0.157605\tvalidation_1-error:0.129032\tvalidation_1-logloss:0.295024\n",
      "[35]\tvalidation_0-error:0.029091\tvalidation_0-logloss:0.153808\tvalidation_1-error:0.129032\tvalidation_1-logloss:0.293326\n",
      "[36]\tvalidation_0-error:0.032727\tvalidation_0-logloss:0.150905\tvalidation_1-error:0.129032\tvalidation_1-logloss:0.291939\n",
      "[37]\tvalidation_0-error:0.029091\tvalidation_0-logloss:0.147874\tvalidation_1-error:0.129032\tvalidation_1-logloss:0.283779\n",
      "[38]\tvalidation_0-error:0.029091\tvalidation_0-logloss:0.145559\tvalidation_1-error:0.129032\tvalidation_1-logloss:0.279604\n",
      "[39]\tvalidation_0-error:0.029091\tvalidation_0-logloss:0.1427\tvalidation_1-error:0.129032\tvalidation_1-logloss:0.279945\n",
      "[40]\tvalidation_0-error:0.029091\tvalidation_0-logloss:0.140101\tvalidation_1-error:0.129032\tvalidation_1-logloss:0.273426\n",
      "[41]\tvalidation_0-error:0.029091\tvalidation_0-logloss:0.13782\tvalidation_1-error:0.129032\tvalidation_1-logloss:0.267849\n",
      "[42]\tvalidation_0-error:0.029091\tvalidation_0-logloss:0.136421\tvalidation_1-error:0.129032\tvalidation_1-logloss:0.268773\n",
      "[43]\tvalidation_0-error:0.029091\tvalidation_0-logloss:0.134093\tvalidation_1-error:0.129032\tvalidation_1-logloss:0.265137\n",
      "[44]\tvalidation_0-error:0.025455\tvalidation_0-logloss:0.131724\tvalidation_1-error:0.129032\tvalidation_1-logloss:0.259177\n",
      "[45]\tvalidation_0-error:0.021818\tvalidation_0-logloss:0.130275\tvalidation_1-error:0.129032\tvalidation_1-logloss:0.25702\n",
      "[46]\tvalidation_0-error:0.025455\tvalidation_0-logloss:0.12822\tvalidation_1-error:0.129032\tvalidation_1-logloss:0.256803\n",
      "[47]\tvalidation_0-error:0.021818\tvalidation_0-logloss:0.126471\tvalidation_1-error:0.129032\tvalidation_1-logloss:0.254679\n",
      "[48]\tvalidation_0-error:0.029091\tvalidation_0-logloss:0.125203\tvalidation_1-error:0.129032\tvalidation_1-logloss:0.256185\n",
      "[49]\tvalidation_0-error:0.021818\tvalidation_0-logloss:0.123695\tvalidation_1-error:0.129032\tvalidation_1-logloss:0.251554\n",
      "[50]\tvalidation_0-error:0.018182\tvalidation_0-logloss:0.12152\tvalidation_1-error:0.129032\tvalidation_1-logloss:0.247976\n",
      "[51]\tvalidation_0-error:0.018182\tvalidation_0-logloss:0.120416\tvalidation_1-error:0.129032\tvalidation_1-logloss:0.24572\n",
      "[52]\tvalidation_0-error:0.021818\tvalidation_0-logloss:0.11867\tvalidation_1-error:0.129032\tvalidation_1-logloss:0.241424\n",
      "[53]\tvalidation_0-error:0.025455\tvalidation_0-logloss:0.117062\tvalidation_1-error:0.129032\tvalidation_1-logloss:0.241596\n",
      "[54]\tvalidation_0-error:0.025455\tvalidation_0-logloss:0.115593\tvalidation_1-error:0.129032\tvalidation_1-logloss:0.242392\n",
      "[55]\tvalidation_0-error:0.025455\tvalidation_0-logloss:0.114508\tvalidation_1-error:0.129032\tvalidation_1-logloss:0.241399\n",
      "[56]\tvalidation_0-error:0.025455\tvalidation_0-logloss:0.113574\tvalidation_1-error:0.129032\tvalidation_1-logloss:0.242778\n",
      "[57]\tvalidation_0-error:0.025455\tvalidation_0-logloss:0.112134\tvalidation_1-error:0.096774\tvalidation_1-logloss:0.241304\n",
      "[58]\tvalidation_0-error:0.025455\tvalidation_0-logloss:0.110766\tvalidation_1-error:0.096774\tvalidation_1-logloss:0.237719\n",
      "[59]\tvalidation_0-error:0.025455\tvalidation_0-logloss:0.109334\tvalidation_1-error:0.096774\tvalidation_1-logloss:0.234142\n",
      "[60]\tvalidation_0-error:0.025455\tvalidation_0-logloss:0.10822\tvalidation_1-error:0.064516\tvalidation_1-logloss:0.234635\n",
      "[61]\tvalidation_0-error:0.025455\tvalidation_0-logloss:0.107123\tvalidation_1-error:0.064516\tvalidation_1-logloss:0.231516\n",
      "[62]\tvalidation_0-error:0.025455\tvalidation_0-logloss:0.106085\tvalidation_1-error:0.064516\tvalidation_1-logloss:0.230024\n",
      "[63]\tvalidation_0-error:0.025455\tvalidation_0-logloss:0.105097\tvalidation_1-error:0.064516\tvalidation_1-logloss:0.229239\n",
      "[64]\tvalidation_0-error:0.025455\tvalidation_0-logloss:0.103975\tvalidation_1-error:0.064516\tvalidation_1-logloss:0.228004\n",
      "[65]\tvalidation_0-error:0.021818\tvalidation_0-logloss:0.102727\tvalidation_1-error:0.096774\tvalidation_1-logloss:0.227076\n",
      "[66]\tvalidation_0-error:0.021818\tvalidation_0-logloss:0.101614\tvalidation_1-error:0.096774\tvalidation_1-logloss:0.22693\n",
      "[67]\tvalidation_0-error:0.025455\tvalidation_0-logloss:0.100865\tvalidation_1-error:0.096774\tvalidation_1-logloss:0.223634\n",
      "[68]\tvalidation_0-error:0.021818\tvalidation_0-logloss:0.100164\tvalidation_1-error:0.096774\tvalidation_1-logloss:0.222885\n",
      "[69]\tvalidation_0-error:0.018182\tvalidation_0-logloss:0.098903\tvalidation_1-error:0.096774\tvalidation_1-logloss:0.221962\n",
      "[70]\tvalidation_0-error:0.018182\tvalidation_0-logloss:0.097872\tvalidation_1-error:0.096774\tvalidation_1-logloss:0.221868\n",
      "[71]\tvalidation_0-error:0.018182\tvalidation_0-logloss:0.097027\tvalidation_1-error:0.096774\tvalidation_1-logloss:0.220327\n",
      "[72]\tvalidation_0-error:0.014545\tvalidation_0-logloss:0.096072\tvalidation_1-error:0.096774\tvalidation_1-logloss:0.220852\n",
      "[73]\tvalidation_0-error:0.014545\tvalidation_0-logloss:0.095419\tvalidation_1-error:0.096774\tvalidation_1-logloss:0.218584\n",
      "[74]\tvalidation_0-error:0.014545\tvalidation_0-logloss:0.094617\tvalidation_1-error:0.096774\tvalidation_1-logloss:0.218527\n",
      "[75]\tvalidation_0-error:0.014545\tvalidation_0-logloss:0.094193\tvalidation_1-error:0.096774\tvalidation_1-logloss:0.218855\n",
      "[76]\tvalidation_0-error:0.014545\tvalidation_0-logloss:0.093613\tvalidation_1-error:0.096774\tvalidation_1-logloss:0.22028\n"
     ]
    },
    {
     "name": "stderr",
     "output_type": "stream",
     "text": [
      "/Library/Frameworks/Python.framework/Versions/3.8/lib/python3.8/site-packages/sklearn/utils/validation.py:73: DataConversionWarning: A column-vector y was passed when a 1d array was expected. Please change the shape of y to (n_samples, ), for example using ravel().\n",
      "  return f(**kwargs)\n"
     ]
    },
    {
     "name": "stdout",
     "output_type": "stream",
     "text": [
      "[77]\tvalidation_0-error:0.014545\tvalidation_0-logloss:0.092918\tvalidation_1-error:0.096774\tvalidation_1-logloss:0.219752\n",
      "[78]\tvalidation_0-error:0.014545\tvalidation_0-logloss:0.091881\tvalidation_1-error:0.096774\tvalidation_1-logloss:0.221083\n",
      "[79]\tvalidation_0-error:0.014545\tvalidation_0-logloss:0.091233\tvalidation_1-error:0.096774\tvalidation_1-logloss:0.221287\n",
      "[80]\tvalidation_0-error:0.014545\tvalidation_0-logloss:0.0905\tvalidation_1-error:0.096774\tvalidation_1-logloss:0.221896\n",
      "[81]\tvalidation_0-error:0.014545\tvalidation_0-logloss:0.08982\tvalidation_1-error:0.096774\tvalidation_1-logloss:0.223011\n",
      "[82]\tvalidation_0-error:0.014545\tvalidation_0-logloss:0.089127\tvalidation_1-error:0.096774\tvalidation_1-logloss:0.224999\n",
      "[83]\tvalidation_0-error:0.010909\tvalidation_0-logloss:0.088424\tvalidation_1-error:0.096774\tvalidation_1-logloss:0.22531\n",
      "[84]\tvalidation_0-error:0.010909\tvalidation_0-logloss:0.087861\tvalidation_1-error:0.096774\tvalidation_1-logloss:0.223409\n",
      "Stopping. Best iteration:\n",
      "[74]\tvalidation_0-error:0.014545\tvalidation_0-logloss:0.094617\tvalidation_1-error:0.096774\tvalidation_1-logloss:0.218527\n",
      "\n",
      "CPU times: user 219 ms, sys: 36.1 ms, total: 255 ms\n",
      "Wall time: 221 ms\n"
     ]
    },
    {
     "data": {
      "text/plain": [
       "XGBClassifier(max_depth=4, n_estimators=200, subsample=0.9)"
      ]
     },
     "execution_count": 10,
     "metadata": {},
     "output_type": "execute_result"
    }
   ],
   "source": [
    "%%time\n",
    "\n",
    "# Fit XGboost as a binary classifier on the training data and evaluate against the test set\n",
    "# Add early stopping\n",
    "model = xgb.XGBClassifier(max_depth=4,\n",
    "                        subsample=0.9,\n",
    "                        objective='binary:logistic',\n",
    "                        n_estimators=200,\n",
    "                        learning_rate = 0.1)\n",
    "eval_set = [(train_X, train_Y), (test_X, test_Y)]\n",
    "model.fit(train_X, train_Y.values.ravel(), early_stopping_rounds=10, eval_metric=[\"error\", \"logloss\"], eval_set=eval_set, verbose=True)"
   ]
  },
  {
   "cell_type": "code",
   "execution_count": 11,
   "metadata": {},
   "outputs": [],
   "source": [
    "# make predictions for test data\n",
    "y_pred = model.predict(test_X)\n",
    "predictions = [round(value) for value in y_pred]"
   ]
  },
  {
   "cell_type": "code",
   "execution_count": 12,
   "metadata": {},
   "outputs": [
    {
     "name": "stdout",
     "output_type": "stream",
     "text": [
      "Accuracy: 90.32%\n"
     ]
    }
   ],
   "source": [
    "# evaluate predictions\n",
    "accuracy = accuracy_score(test_Y, predictions)\n",
    "print(\"Accuracy: %.2f%%\" % (accuracy * 100.0))"
   ]
  },
  {
   "cell_type": "code",
   "execution_count": 13,
   "metadata": {},
   "outputs": [
    {
     "name": "stdout",
     "output_type": "stream",
     "text": [
      "Prediction:  [0]\n",
      "Probabilities:  [[0.9017306  0.09826939]]\n"
     ]
    }
   ],
   "source": [
    "# Make DataFrame for model\n",
    "input_variables = pd.DataFrame([[3,4,50.75,1,0,0,0,0,0,0,0,0,0,0,0,0,0,0,0,0,0,0,0,0,0,0,0,0,0,0,0,0,0,0,0,0,0,0,0,0,0,0,0]],\n",
    "                                columns=headers, \n",
    "                                dtype=float,\n",
    "                                index=['input'])\n",
    "\n",
    "# Get the model's prediction\n",
    "prediction = model.predict(input_variables)\n",
    "print(\"Prediction: \", prediction)\n",
    "prediction_proba = model.predict_proba(input_variables)\n",
    "print(\"Probabilities: \", prediction_proba)"
   ]
  },
  {
   "cell_type": "code",
   "execution_count": 14,
   "metadata": {},
   "outputs": [],
   "source": [
    "# save model to file\n",
    "pickle.dump(model, open(\"invoice-risk-model.pkl\", \"wb\"))"
   ]
  },
  {
   "cell_type": "code",
   "execution_count": 15,
   "metadata": {},
   "outputs": [
    {
     "data": {
      "image/png": "[encoded data removed]",
      "text/plain": [
       "<Figure size 432x288 with 1 Axes>"
      ]
     },
     "metadata": {
      "needs_background": "light"
     },
     "output_type": "display_data"
    },
    {
     "data": {
      "image/png": "[encoded data removed]",
      "text/plain": [
       "<Figure size 432x288 with 1 Axes>"
      ]
     },
     "metadata": {
      "needs_background": "light"
     },
     "output_type": "display_data"
    }
   ],
   "source": [
    "# retrieve performance metrics\n",
    "results = model.evals_result()\n",
    "epochs = len(results['validation_0']['error'])\n",
    "x_axis = range(0, epochs)\n",
    "# plot log loss\n",
    "fig, ax = pyplot.subplots()\n",
    "ax.plot(x_axis, results['validation_0']['logloss'], label='Train')\n",
    "ax.plot(x_axis, results['validation_1']['logloss'], label='Test')\n",
    "ax.legend()\n",
    "pyplot.ylabel('Log Loss')\n",
    "pyplot.title('XGBoost Log Loss')\n",
    "pyplot.show()\n",
    "# plot classification error\n",
    "fig, ax = pyplot.subplots()\n",
    "ax.plot(x_axis, results['validation_0']['error'], label='Train')\n",
    "ax.plot(x_axis, results['validation_1']['error'], label='Test')\n",
    "ax.legend()\n",
    "pyplot.ylabel('Classification Error')\n",
    "pyplot.title('XGBoost Classification Error')\n",
    "pyplot.show()"
   ]
  },
  {
   "cell_type": "code",
   "execution_count": null,
   "metadata": {},
   "outputs": [],
   "source": []
  }
 ],
 "metadata": {
  "kernelspec": {
   "display_name": "Python 3",
   "language": "python",
   "name": "python3"
  },
  "language_info": {
   "codemirror_mode": {
    "name": "ipython",
    "version": 3
   },
   "file_extension": ".py",
   "mimetype": "text/x-python",
   "name": "python",
   "nbconvert_exporter": "python",
   "pygments_lexer": "ipython3",
   "version": "3.8.3"
  }
 },
 "nbformat": 4,
 "nbformat_minor": 4
}
